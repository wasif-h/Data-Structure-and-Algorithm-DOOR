{
 "cells": [
  {
   "attachments": {},
   "cell_type": "markdown",
   "id": "aafcebe6-3dd9-4a00-9d8f-8346624db535",
   "metadata": {},
   "source": [
    "# --- >> PYTHON NOTEBOOK - MADY BY WASIF\n",
    "### Date : 15 march 2024\n"
   ]
  },
  {
   "cell_type": "markdown",
   "id": "222c21cd-9f78-457f-9d82-fe6a6bb51820",
   "metadata": {},
   "source": [
    "# Input and Output"
   ]
  },
  {
   "cell_type": "markdown",
   "id": "7b1feb10-8465-45ca-8373-f4797b46c7aa",
   "metadata": {},
   "source": [
    "Print function take 2 parameter\n",
    "1. sep - it separate the point at ,     d = space\n",
    "2. end - how it will end the print statement     d = '\\n'"
   ]
  },
  {
   "cell_type": "code",
   "execution_count": 1,
   "id": "0ce952fb-e1ba-4454-ab32-f62d47b26921",
   "metadata": {},
   "outputs": [
    {
     "name": "stdout",
     "output_type": "stream",
     "text": [
      "Hello----Jashim----Mia Ki obst\n"
     ]
    }
   ],
   "source": [
    "print(\"Hello\",\"Jashim\",\"Mia\", end = ' ', sep = '----')\n",
    "print(\"Ki obst\")"
   ]
  },
  {
   "cell_type": "markdown",
   "id": "d12d5b88-afff-4ba5-9ea5-c5d6836c949f",
   "metadata": {},
   "source": [
    "Input function take input as a string and we can also modify it"
   ]
  },
  {
   "cell_type": "code",
   "execution_count": 1,
   "id": "e3d14656-6385-4915-8bee-15ebfc98b3b6",
   "metadata": {},
   "outputs": [
    {
     "name": "stdout",
     "output_type": "stream",
     "text": [
      "Enter name :  galib\n"
     ]
    },
    {
     "name": "stdout",
     "output_type": "stream",
     "text": [
      "GALIB\n"
     ]
    }
   ],
   "source": [
    "name = input(\"Enter name : \").strip().upper()\n",
    "print(name)"
   ]
  },
  {
   "cell_type": "markdown",
   "id": "1e37c372-60fa-4b9b-a0f6-05652cb7c393",
   "metadata": {},
   "source": [
    "## We can also write input and print together"
   ]
  },
  {
   "cell_type": "code",
   "execution_count": 4,
   "id": "cb354d4a-c185-4b8e-a777-c815e375506e",
   "metadata": {},
   "outputs": [
    {
     "name": "stdout",
     "output_type": "stream",
     "text": [
      "Enter name :  wasif\n"
     ]
    },
    {
     "name": "stdout",
     "output_type": "stream",
     "text": [
      "WASIF\n"
     ]
    }
   ],
   "source": [
    "print(input(\"Enter name : \").strip().upper())"
   ]
  },
  {
   "cell_type": "markdown",
   "id": "83273927-5c83-4b2d-8bb0-ab78e5fd191e",
   "metadata": {},
   "source": [
    "`How to take many inputs together and collect it in a list for CP`"
   ]
  },
  {
   "cell_type": "code",
   "execution_count": 53,
   "id": "3d138e7e-1828-482c-9746-70d6c4cf2948",
   "metadata": {},
   "outputs": [
    {
     "name": "stdout",
     "output_type": "stream",
     "text": [
      "Enter five numbers :  23 45 667 44\n"
     ]
    },
    {
     "name": "stdout",
     "output_type": "stream",
     "text": [
      "[23, 45, 667, 44]\n",
      "Sum = 779\n"
     ]
    }
   ],
   "source": [
    "name = input(\"Enter five numbers : \")\n",
    "numbers = list(map(lambda n : int(n) ,name.split()))     # name.split() method to make string to list. space is default.\n",
    "print(numbers)\n",
    "\n",
    "# for checking\n",
    "_sum = 0\n",
    "for i in numbers:\n",
    "    _sum = _sum + i\n",
    "print(\"Sum =\",_sum)"
   ]
  },
  {
   "cell_type": "markdown",
   "id": "9c93f6fe-319f-4a3a-be5a-bd22e31c686f",
   "metadata": {},
   "source": [
    "# Variable and Type Conversion"
   ]
  },
  {
   "cell_type": "code",
   "execution_count": 9,
   "id": "f8f84285-d844-4513-86b1-a1f98955d610",
   "metadata": {},
   "outputs": [
    {
     "name": "stdout",
     "output_type": "stream",
     "text": [
      "10.5 10 11.5\n",
      "(10+2j)\n"
     ]
    }
   ],
   "source": [
    "a = 5.5\n",
    "b = 5\n",
    "c = a + b # here b implicitly converted to float\n",
    "d = int(c) # explicit type conversion\n",
    "e = c + True # True became 1 implicitly\n",
    "var_complex = complex(10,2) # complex function make complex calculation\n",
    "print(c,d,e)\n",
    "print(var_complex)"
   ]
  },
  {
   "cell_type": "markdown",
   "id": "a2e4b5f6-2d9a-4bcf-8e9b-cb5386f82be0",
   "metadata": {},
   "source": [
    "float type special case\n"
   ]
  },
  {
   "cell_type": "code",
   "execution_count": 15,
   "id": "e9c8a8bf-8c98-4443-b333-aeeaaa0773af",
   "metadata": {},
   "outputs": [
    {
     "name": "stdout",
     "output_type": "stream",
     "text": [
      "Process 1  3.14\n",
      "Process 2  3.14\n",
      "1,000,000,000\n"
     ]
    }
   ],
   "source": [
    "value = 3.1416235345345\n",
    "num1 = round(value,2)\n",
    "print(\"Process 1 \",num1)\n",
    "print(f\"Process 2  {value:.2f}\")\n",
    "money = 1000000000\n",
    "print(f\"{money:,}\") #add comma to read it clearly"
   ]
  },
  {
   "cell_type": "markdown",
   "id": "83f76bb5-ae9b-4c7d-a1ef-90d1c4db48e3",
   "metadata": {},
   "source": [
    "# Comment and Docstring"
   ]
  },
  {
   "cell_type": "markdown",
   "id": "9c86018b-78fa-49c8-883e-adaef0330c53",
   "metadata": {},
   "source": [
    "1. this is multiline string\n",
    "\n",
    "var1 = \"\"\"\" \n",
    "\n",
    "\"\"\"\"\n",
    "\n",
    "2. This is multiline comment/doc\n",
    "   \n",
    "\"\"\"\n",
    "\"\"\"\n"
   ]
  },
  {
   "cell_type": "markdown",
   "id": "693580ad-7443-4a73-a1b8-bc1e207750d4",
   "metadata": {},
   "source": [
    "# Loop and Condition"
   ]
  },
  {
   "cell_type": "markdown",
   "id": "ba7143c9-0d81-42af-93fc-f1778f794bc4",
   "metadata": {},
   "source": [
    "Range function -> range(1,100,2)\n",
    "here,\n",
    "1 - starting point\n",
    "100 - it will go before 100 , means 99\n",
    "2 - step 2 or skip 2"
   ]
  },
  {
   "cell_type": "code",
   "execution_count": 17,
   "id": "ae7e86d7-8d0c-44ed-a849-1ac3d7d00d4f",
   "metadata": {},
   "outputs": [
    {
     "name": "stdout",
     "output_type": "stream",
     "text": [
      "1\n",
      "3\n",
      "5\n",
      "7\n",
      "9\n"
     ]
    }
   ],
   "source": [
    "for i in range(1,10,2):\n",
    "    print(i)"
   ]
  },
  {
   "cell_type": "markdown",
   "id": "a3b6b82b-0f37-4741-930d-31b774308aed",
   "metadata": {},
   "source": [
    "We can take two variable in a same loop "
   ]
  },
  {
   "cell_type": "code",
   "execution_count": 25,
   "id": "be00a60e-5bc1-4ef8-a487-0f1fa3f97ce4",
   "metadata": {},
   "outputs": [
    {
     "name": "stdout",
     "output_type": "stream",
     "text": [
      "4 1\n",
      "5 2\n",
      "6 3\n"
     ]
    }
   ],
   "source": [
    "for i,j in zip([4,5,6], [1,2,3]):\n",
    "    print(i,j)"
   ]
  },
  {
   "cell_type": "markdown",
   "id": "68a6b06f-b8c5-44f9-87d3-d5c178a0f6b0",
   "metadata": {},
   "source": [
    "do while loop is not available in python. But e can emulate it"
   ]
  },
  {
   "cell_type": "code",
   "execution_count": 1,
   "id": "c483fdc4-762f-49c5-9d42-0b7482c5b585",
   "metadata": {},
   "outputs": [
    {
     "name": "stdout",
     "output_type": "stream",
     "text": [
      "Hello\n",
      "Hello\n",
      "Hello\n"
     ]
    }
   ],
   "source": [
    "i = 1\n",
    "while True:\n",
    "    print(\"Hello\")\n",
    "    i += 1\n",
    "    if( i > 3):\n",
    "        break\n",
    "    "
   ]
  },
  {
   "cell_type": "markdown",
   "id": "dfe7e566-14df-4feb-9d9c-aabf9d6ab09a",
   "metadata": {},
   "source": [
    "Match Case in python - almost like switch case in c++\n",
    "1. we dont need to write break everytime.\n",
    "2. default can take if else statement also"
   ]
  },
  {
   "cell_type": "code",
   "execution_count": 29,
   "id": "31b64c3b-4fbe-4d60-a771-c1309a846612",
   "metadata": {},
   "outputs": [
    {
     "name": "stdout",
     "output_type": "stream",
     "text": [
      "This is default\n"
     ]
    }
   ],
   "source": [
    "num = 4\n",
    "match num :\n",
    "    case 1: print(\"one\")\n",
    "    case 2: print(\"two\")\n",
    "    case _: print(\"This is default\")"
   ]
  },
  {
   "cell_type": "code",
   "execution_count": 47,
   "id": "99798940-16e7-4f69-b561-9cc712efc747",
   "metadata": {},
   "outputs": [
    {
     "name": "stdout",
     "output_type": "stream",
     "text": [
      "HEllo world\n",
      "HEllo world\n",
      "HEllo world\n",
      "HEllo world\n"
     ]
    }
   ],
   "source": [
    "# If we dont use i in for loop, we can use _ instead . This is called pythonic\n",
    "\n",
    "for _ in range(4):\n",
    "    print(\"HEllo world\")"
   ]
  },
  {
   "cell_type": "markdown",
   "id": "e234032f-5ee2-4257-88fc-0932721c8754",
   "metadata": {},
   "source": [
    "# Mutable and Immutable in python"
   ]
  },
  {
   "cell_type": "markdown",
   "id": "d8b7a5f3-7fbb-477a-b3e3-9c23bf8b6514",
   "metadata": {},
   "source": [
    "Mutable - we can change it\n",
    "1. List\n",
    "2. Dic\n",
    "3. Set\n",
    "\n",
    "   \n",
    "Immutable - we can not change it\n",
    "1. String\n",
    "2. number\n",
    "3. tuple\n",
    "   "
   ]
  },
  {
   "cell_type": "code",
   "execution_count": 33,
   "id": "fb46726d-8995-4946-b784-fe6caaef9837",
   "metadata": {},
   "outputs": [
    {
     "name": "stdout",
     "output_type": "stream",
     "text": [
      "[1, 0, 3]\n",
      "wasif\n"
     ]
    }
   ],
   "source": [
    "list1 = [1,2,3]\n",
    "list1[1] = 0\n",
    "print(list1)\n",
    "\n",
    "str1 = 'wasif'\n",
    "# str1[1] = 'p'        # we can not do it\n",
    "print(str1)"
   ]
  },
  {
   "cell_type": "markdown",
   "id": "210b20dc-8be9-4d94-8c7c-3c152890a49e",
   "metadata": {},
   "source": [
    "# String"
   ]
  },
  {
   "cell_type": "markdown",
   "id": "dcbf5eb0-867d-4994-9a85-b9b78f499791",
   "metadata": {},
   "source": [
    "1. len() - character count function\n",
    "2. we can count the index from the end by -1 'wasif' , here [-1] means f\n",
    "3. Slicing[start,stop,step] just like range()\n",
    "   \n",
    "    \"wasifhossain\"\n",
    "   \n",
    "   [2: ] - s to end\n",
    "   \n",
    "   [ : 3] - start to s\n",
    "   \n",
    "   [3:6] - ifh ,here 3 is i and 6 is o\n",
    "   \n",
    "   [::2] - full but skip 1 letter\n",
    "   \n",
    "   [::-1] - reverse the string\n",
    "\n",
    "4. \"hello\" * 3 = hellohellohello"
   ]
  },
  {
   "cell_type": "code",
   "execution_count": 38,
   "id": "227f8956-d13d-492d-908e-374f3de6d5cb",
   "metadata": {},
   "outputs": [
    {
     "name": "stdout",
     "output_type": "stream",
     "text": [
      "niassohfisaw\n"
     ]
    }
   ],
   "source": [
    "name = 'wasifhossain'\n",
    "print(name[::-1])"
   ]
  },
  {
   "cell_type": "markdown",
   "id": "49be9510-c1f7-4bf7-9532-5edd342858a2",
   "metadata": {},
   "source": [
    "\n",
    "## \n",
    "**String Methods in Python**\n",
    "\n",
    "Python strings are immutable sequences of characters. They offer a rich set of built-in methods for various string manipulations. These methods generally create a new string object rather than modifying the original one.\n",
    "\n",
    "Here's a categorized breakdown of commonly used string methods:\n",
    "\n",
    "**Case Conversion**\n",
    "\n",
    "* `capitalize()`: Converts the first character of the string to uppercase and returns a new string.\n",
    "* `lower()`: Converts all characters to lowercase and returns a new string.\n",
    "* `upper()`: Converts all characters to uppercase and returns a new string.\n",
    "* `swapcase()`: Swaps the case of all characters (uppercase to lowercase and vice versa) and returns a new string.\n",
    "* `title()`: Converts the first character of each word to uppercase and the remaining characters to lowercase, returning a new string (suitable for titles).\n",
    "* `casefold()`: Returns a version of the string suitable for case-insensitive comparisons (lowercased and with characters normalized).\n",
    "\n",
    "**Whitespace Manipulation**\n",
    "\n",
    "* `strip()`: Removes leading and trailing whitespaces (spaces, tabs, newlines, etc.) from the string and returns a new string. Optionally, you can specify characters to remove with `strip('chars')`.\n",
    "* `lstrip()`: Removes leading whitespaces from the string and returns a new string.\n",
    "* `rstrip()`: Removes trailing whitespaces from the string and returns a new string.\n",
    "\n",
    "**Searching and Extraction**\n",
    "\n",
    "* `find(sub[, start[, end]])`: Returns the index of the first occurrence of the substring `sub` within the string. Optional arguments `start` and `end` specify the search range. Returns -1 if not found.\n",
    "* `rfind(sub[, start[, end]])`: Returns the index of the last occurrence of the substring `sub` within the string, considering the specified search range (`start` and `end`). Returns -1 if not found.\n",
    "* `index(sub[, start[, end]])`: Similar to `find()`, but raises a `ValueError` if the substring is not found.\n",
    "* `rindex(sub[, start[, end]])`: Similar to `rfind()`, but raises a `ValueError` if the substring is not found.\n",
    "* `count(sub[, start[, end]])`: Returns the number of non-overlapping occurrences of substring `sub` within the string, considering the optional search range (`start` and `end`).\n",
    "\n",
    "**Splitting and Joining**\n",
    "\n",
    "* `split(sep=None, maxsplit=-1)`: Splits the string into a list of substrings based on the delimiter `sep`. Optionally, `maxsplit` specifies the maximum number of splits to perform.\n",
    "* `splitlines(keepends=False)`: Splits the string into a list of lines (based on line breaks) and returns it. Optionally, `keepends` can be set to `True` to retain line endings in the list.\n",
    "* `join(iterable)`: Joins the elements of an iterable (like a list) into a single string, using the string object as a separator.\n",
    "\n",
    "**Alignment and Padding**\n",
    "\n",
    "* `center(width[, fillchar=' '])`: Returns a centered string of length `width` by padding with the specified fill character (`fillchar`).\n",
    "* `ljust(width[, fillchar=' '])`: Returns a left-justified string of length `width` by padding with the specified fill character (`fillchar`).\n",
    "* `rjust(width[, fillchar=' '])`: Returns a right-justified string of length `width` by padding with the specified fill character (`fillchar`).\n",
    "* `zfill(width)`: Returns a version of the string left-filled with zeros to a total of `width` characters.\n",
    "\n",
    "**Replacement**\n",
    "\n",
    "* `replace(old, new[, count=-1])`: Returns a new string where all occurrences of `old` substring are replaced with `new`. Optionally, `count` specifies the maximum number of replacements to perform.\n",
    "\n",
    "**Membership Testing**\n",
    "\n",
    "* `isalnum()`: Returns `True` if the string consists only of alphanumeric characters (letters and numbers) and `False` otherwise.\n",
    "* `isalpha()`: Returns `True` if the string consists only of alphabetic characters (letters) and `False` otherwise.\n",
    "* `isdigit()`: Returns `True` if the string consists only of digits (0-9) and `False` otherwise.\n",
    "* `islower()`: Returns `True` if the string consists only of lowercase characters and `False` otherwise.\n",
    "* `isupper()`: Returns `True` if the string consists only of uppercase characters and `False` otherwise.\n",
    "* `isspace()`: Returns `True` if the string consists only of whitespace characters (spacespecified number of 0 values at the beginning\n",
    "pecified number of 0 values at the beginning\n",
    "specified number of 0 values at the beginning"
   ]
  },
  {
   "cell_type": "markdown",
   "id": "0ef62341-d5eb-4a66-8741-3edd21f022e5",
   "metadata": {},
   "source": [
    "# List"
   ]
  },
  {
   "cell_type": "markdown",
   "id": "9f18bbc8-a28b-4751-ac12-7194472e6306",
   "metadata": {},
   "source": [
    "\n",
    "1. accept all data type\n",
    "\n",
    "\n",
    "\n",
    "\n",
    "\n",
    "**Adding and Removing Elements**\n",
    "\n",
    "* **`append(x)`:** Adds a single element `x` to the **end** of the list.\n",
    "* **`clear()`:** Removes all items from the list, effectively making it empty.\n",
    "* **`copy()`:** Returns a **shallow copy** of the list. This means changes to the original list will also be reflected in the copy, as they both reference the same underlying elements. To create a truly independent copy, consider using libraries like `copy.deepcopy()`.\n",
    "* **`count(x)`:** Counts the number of occurrences of element `x` within the list.\n",
    "* **`extend(iterable)`:** Extends the list by appending all elements from the iterable (like another list or tuple).\n",
    "* **`insert(i, x)`:** Inserts element `x` at a specific **index `i`**. Remember that Python uses 0-based indexing, so `i=0` inserts at the beginning.\n",
    "* **`pop(i=-1)`:** Removes and returns the element at index `i`. If no index is provided (`i=-1`), it removes and returns the **last element**.\n",
    "* **`remove(x)`:** Removes the **first occurrence** of element `x` from the list. Raises a `ValueError` if not found.\n",
    "* **`reverse()`:** Reverses the order of elements in the list **in-place**. This modifies the original list.\n",
    "\n",
    "**Accessing and Modifying Elements**\n",
    "\n",
    "* **`index(x[, start[, end]])`:** Returns the index of the **first occurrence** of element `x` within the specified search range (`start` and `end`). Raises a `ValueError` if not found.\n",
    "* **`sort(*, key=None, reverse=False)`:** Sorts the list items. By default, it sorts in **ascending order**. Optionally, specify a `key` function for custom sorting criteria and `reverse=True` for descending order.\n",
    "\n",
    "**Searching and Traversal**\n",
    "\n",
    "* **`in(x)`:** Returns `True` if element `x` is found in the list, `False` otherwise.\n",
    "* **`enumerate(iterable[, start])`:** Returns an enumerate object that yields pairs of (index, element) from the iterable (often used to iterate through lists with indexes).\n",
    "\n",
    "**Additional Methods**\n",
    "\n",
    "* **`len(list)`:** Returns the length (number of elements) of the list.\n",
    "* **`min(iterable)`:** Returns the smallest element in the iterable (often used with lists).\n",
    "* **`max(iterable)`:** Returns the largest element in the iterable (often used with lists).\n",
    "* **`list(iterable)`:** Creates a new list from an iterable object.\n",
    "\n",
    "**Remember:**\n",
    "\n",
    "* Most list methods modify the original list in-place unless explicitly stated otherwise (like `copy()`).\n",
    "* Be mindful of potential errors like `IndexError` when accessinn your Python programming endeavors!"
   ]
  },
  {
   "cell_type": "code",
   "execution_count": 40,
   "id": "2e11ff75-0589-4795-bdfd-48770c0aa10c",
   "metadata": {},
   "outputs": [
    {
     "name": "stdout",
     "output_type": "stream",
     "text": [
      "Yes\n"
     ]
    }
   ],
   "source": [
    "# how to search any item in list\n",
    "\n",
    "name = ['wasif','hossain','shihab']\n",
    "if 'wasif' in name:\n",
    "    print(\"Yes\")"
   ]
  },
  {
   "cell_type": "markdown",
   "id": "300ad4e1-1711-4261-a556-c2105b203211",
   "metadata": {},
   "source": [
    "1. len() to calculate items\n",
    "2. we can slice list like string , name[1:]\n",
    "3. we can make same item list by multiply them"
   ]
  },
  {
   "cell_type": "code",
   "execution_count": 41,
   "id": "cc81bec1-45d8-4f97-8a26-5d2c54c288af",
   "metadata": {},
   "outputs": [
    {
     "name": "stdout",
     "output_type": "stream",
     "text": [
      "[3, 3, 3, 3, 3, 3, 3, 3, 3, 3]\n"
     ]
    }
   ],
   "source": [
    "num = [3]*10\n",
    "print(num)"
   ]
  },
  {
   "cell_type": "markdown",
   "id": "85936a0c-ecc6-42a0-8067-9d5f65203d47",
   "metadata": {},
   "source": [
    "\n",
    "\n",
    "## Copying list \n",
    "\n",
    "1. list1 = [1,2,3]\n",
    "2. \n",
    "   list2 = list1\n",
    "   \n",
    "   -- problem : if we change list2 then list1 will be changes\n",
    "   \n",
    "   -- solution : list2 = list1.copy()\n",
    "\n",
    "## emply list\n",
    "\n",
    "    mylist = list()\n",
    "\n",
    "## join function\n",
    "\n",
    "    make all the item into string\n",
    "    \n",
    "    return \" \",join(ages)"
   ]
  },
  {
   "cell_type": "code",
   "execution_count": 43,
   "id": "b3a0e2ba-79b0-406b-87e3-d14a949098e9",
   "metadata": {},
   "outputs": [
    {
     "name": "stdout",
     "output_type": "stream",
     "text": [
      "a-/-/b-/-/c\n"
     ]
    }
   ],
   "source": [
    "name = ['a','b','c']\n",
    "print(\"-/-/\".join(name))"
   ]
  },
  {
   "cell_type": "markdown",
   "id": "488bbbb2-a4c1-46bb-82da-ebc8eb69cc88",
   "metadata": {},
   "source": [
    "`List Comprehension`\n"
   ]
  },
  {
   "cell_type": "code",
   "execution_count": 33,
   "id": "255a0ad4-08de-4a10-8aee-15ed152fb261",
   "metadata": {},
   "outputs": [
    {
     "name": "stdout",
     "output_type": "stream",
     "text": [
      "[0, 2, 4, 6, 8, 10, 12, 14, 16, 18, 20]\n",
      "[0, 2, 4, 6, 8, 10, 12, 14, 16, 18, 20]\n"
     ]
    }
   ],
   "source": [
    "# Process 1\n",
    "list1 = [x for x in range(0,21,2)] # all even numbers\n",
    "print(list1)\n",
    "#process 2\n",
    "list2 = [ i for i in range(21) if i % 2 == 0 ]\n",
    "print(list2)"
   ]
  },
  {
   "cell_type": "markdown",
   "id": "d29235e4-ddb3-46c3-afe0-bc0a6f1c5dfd",
   "metadata": {},
   "source": [
    "`Difference between pop,remove,insert,append`"
   ]
  },
  {
   "cell_type": "code",
   "execution_count": 17,
   "id": "9ac4339d-88db-43e3-9960-b8ba28984d69",
   "metadata": {},
   "outputs": [
    {
     "name": "stdout",
     "output_type": "stream",
     "text": [
      "['a', 'b', 'c', 'd', 1, 2] and the pop value is  4\n",
      "a\n",
      "b\n",
      "c\n",
      "d\n",
      "1\n",
      "2\n"
     ]
    }
   ],
   "source": [
    "list2 = ['a','b','c',1,2,3]\n",
    "list2.append(4)\n",
    "list2.insert(3,'d')\n",
    "g = list2.pop()\n",
    "list2.remove(3)\n",
    "print(list2,\"and the pop value is \",g)\n",
    "for x in range(len(list2)):\n",
    "    list2[x] = str(list2[x])\n",
    "print(\"\\n\".join(list2))"
   ]
  },
  {
   "cell_type": "code",
   "execution_count": null,
   "id": "8b8f76e9-c787-4a75-ac2c-628daab47503",
   "metadata": {},
   "outputs": [],
   "source": [
    "# list methods\n",
    "nums = [1, 2, 3, 4, 5, 6]\n",
    "\n",
    "# adding -------------------------------------\n",
    "# insert - add based on index\n",
    "nums.insert(0, -1)\n",
    "\n",
    "# append - add at the end\n",
    "nums.append(7)\n",
    "\n",
    "# extend - add a new list at the end of previous list\n",
    "list2 = [8, 9, 10]\n",
    "nums.extend(list2)\n",
    "\n",
    "# slicing + concatenation ---------------\n",
    "# print(nums[1:4])\n",
    "# update using slicing\n",
    "nums[0:2] = ['New', 'one']\n",
    "\n",
    "a = ['a', 'b', 'c']\n",
    "b = ['d', 'e', 'f']\n",
    "c = a + b + ['g']\n",
    "d = c * 2\n",
    "# print(c, d, sep=\"\\n\")\n",
    "\n",
    "# deleting -----------------------------\n",
    "\n",
    "# pop - delete value with index, return the value, no argumnet will delete the last element\n",
    "nums.pop(0)\n",
    "nums.pop()\n",
    "# print(nums.pop(1))\n",
    "\n",
    "# delete - delete element with del keyword, can use slicing\n",
    "del nums[0:2]\n",
    "\n",
    "# remove - delete element using their value\n",
    "nums.remove(6)\n",
    "\n",
    "# extra function -----------------------\n",
    "# print(len(nums)) total elements number\n",
    "# print(max(nums))\n",
    "# print(min(nums))\n",
    "# print(sum(nums))\n",
    "# print(sum(nums)/len(nums))\n",
    "# nums.reverse() - it will reverse the list\n",
    "\n",
    "# string to list or list to string -------------------\n",
    "\n",
    "var1 = \" \".join(a)  # to concatenate the list to string\n",
    "\n",
    "list3 = var1.split()  # do this for a sentence\n",
    "var2 = 'wasif'\n",
    "list4 = list(var2)  # we do this for single word\n",
    "\n",
    "\n",
    "# print(list4)\n",
    "\n",
    "\n",
    "# searching ------------------\n",
    "# 1. Linear\n",
    "\n",
    "def searching_linear(list_name, item):\n",
    "    for i in range(len(list_name)):\n",
    "        if i == item:\n",
    "            return True\n",
    "    else:\n",
    "        return False\n",
    "\n",
    "# 2. using in operator\n",
    "\n",
    "# if 5 in nums:\n",
    "#     print(\"Yes\")\n"
   ]
  },
  {
   "cell_type": "code",
   "execution_count": 2,
   "id": "4c86d099-b480-4092-9f5b-3cceea8205ab",
   "metadata": {},
   "outputs": [
    {
     "name": "stdout",
     "output_type": "stream",
     "text": [
      "['a', 'b', 'c', 'd', 'e', 'f', 'g', 'a', 'b', 'c', 'd', 'e', 'f', 'g'] ['a', 'b', 'c', 'd', 'e', 'f', 'g']\n"
     ]
    }
   ],
   "source": [
    "a = ['a', 'b', 'c']\n",
    "b = ['d', 'e', 'f']\n",
    "c = a + b + ['g']\n",
    "d = c * 2\n",
    "print(d,c)"
   ]
  },
  {
   "cell_type": "markdown",
   "id": "85ca4db8-c226-4cf3-bada-ca4a82bf2e2b",
   "metadata": {},
   "source": [
    "`Problems of list`"
   ]
  },
  {
   "cell_type": "markdown",
   "id": "ed1bc29e-99fd-4f11-b905-d829aa297782",
   "metadata": {},
   "source": [
    "Here are the questions that correspond to each of the functions:\n",
    "\n",
    "### 1. `temperature()`:\n",
    "**Question**: Write a Python function that calculates and prints the average temperature over a specified number of days, and then identifies which days had a temperature above the average.\n",
    "\n",
    "---\n",
    "\n",
    "### 2. `find_the_missing_number_a1(list2)`:\n",
    "**Question**: Given a list of consecutive numbers with one missing, write a Python function to find and print the missing number.\n",
    "\n",
    "---\n",
    "\n",
    "### 3. `find_the_missing_number_a2(list_name, n)`:\n",
    "**Question**: Write a Python function that takes a list of numbers from 1 to *n* (with one missing) and returns the missing number using the sum formula for natural numbers.\n",
    "\n",
    "---\n",
    "\n",
    "### 4. `pair_sum(list_name, target)`:\n",
    "**Question**: Write a Python function that finds and prints all pairs of numbers from a given list that add up to a specified target value.\n",
    "\n",
    "---\n",
    "\n",
    "### 5. `max_product(list_name)`:\n",
    "**Question**: Write a Python function that finds and prints the maximum product of any two numbers from a given list, along with their indices.\n",
    "\n"
   ]
  },
  {
   "cell_type": "code",
   "execution_count": null,
   "id": "31af4766-b76c-4046-98ff-c7dde7a34d5e",
   "metadata": {},
   "outputs": [],
   "source": [
    "def temperature():\n",
    "    counter = int(input(\"How many day's temperature -> \"))\n",
    "    list1 = []\n",
    "    total = 0\n",
    "\n",
    "    for i in range(counter):\n",
    "        day = float(input(f\"Day {i + 1} Temperature : \"))\n",
    "        list1.append(day)\n",
    "        total += day\n",
    "\n",
    "    avg = total / counter\n",
    "\n",
    "    print(f\"\\nAverage temperature = {avg:1.2f}\")\n",
    "    for j in range(counter):\n",
    "        if list1[j] > avg:\n",
    "            print(f\"Day {j + 1} is above average\")\n",
    "        else:\n",
    "            pass\n",
    "\n",
    "\n",
    "def find_the_missing_number_a1(list2):\n",
    "    for i in range(len(list2)):\n",
    "        if i + 1 >= len(list2):\n",
    "            break\n",
    "        if list2[i] != list2[i + 1] - 1:\n",
    "            print(list2[i] + 1)\n",
    "        else:\n",
    "            pass\n",
    "\n",
    "\n",
    "def find_the_missing_number_a2(list_name, n):\n",
    "    num1 = sum(list_name)\n",
    "    num2 = n * (n + 1) / 2  # sum of nth number\n",
    "\n",
    "    num3 = num2 - num1\n",
    "    return int(num3)\n",
    "\n",
    "\n",
    "list1 = [3, 1, 1, 3, 2, 7]\n",
    "\n",
    "\n",
    "def pair_sum(list_name, target):\n",
    "    for i in range(len(list_name)):\n",
    "        for j in range(i + 1, len(list_name)):\n",
    "            if list_name[i] + list_name[j] == target:\n",
    "                print(list_name[i], list_name[j])\n",
    "\n",
    "\n",
    "def max_product(list_name):\n",
    "    max_pro = 0\n",
    "    num1, num2 = 0, 0\n",
    "\n",
    "\n",
    "    for i in range(len(list_name)):\n",
    "        for j in range(i + 1, len(list_name)):\n",
    "            test = list_name[i] * list_name[j]\n",
    "            if test > max_pro:\n",
    "                max_pro = test\n",
    "                num1, num2 = i, j\n",
    "            else:\n",
    "                pass\n",
    "    print(max_pro, num1, num2)\n",
    "\n",
    "\n",
    "max_product(list1)\n",
    "\n",
    "# print(pair_sum(list1, 7))\n"
   ]
  },
  {
   "cell_type": "markdown",
   "id": "7806f734-c0f6-4b73-8c9a-aba957d789a9",
   "metadata": {},
   "source": [
    "# Error Handling in python\n",
    "\n",
    "Sure, I can teach you about error handling in Python!\n",
    "\n",
    "**Errors and Exceptions in Python**\n",
    "\n",
    "- **Errors:** Errors are syntax mistakes or other issues that prevent your code from running at all. These are typically caught by Python during compilation. Examples include missing colons, incorrect indentation, or typos in variable names.\n",
    "- **Exceptions:** Exceptions are runtime errors that occur while your code is executing. These can be caused by various factors like division by zero, trying to access an element outside a list's index range, or opening a non-existent file.\n",
    "\n",
    "**Handling Exceptions with `try...except` Blocks**\n",
    "\n",
    "The fundamental mechanism for error handling in Python is the `try...except` block. Here's how it works:\n",
    "\n",
    "```python\n",
    "try:\n",
    "  # Code that might raise an exception\n",
    "except ExceptionType:  # Can specify a specific exception type here\n",
    "  # Code to handle the exception\n",
    "  print(\"An error occurred!\")\n",
    "else:  # Optional block that executes if no exception is raised\n",
    "  # Code that assumes successful execution\n",
    "finally:  # Optional block that always executes, regardless of exceptions\n",
    "  # Code to clean up resources (e.g., closing files)\n",
    "```\n",
    "\n",
    "- **`try` block:** This block contains the code you suspect might raise an exception.\n",
    "- **`except` block:** This block defines what happens when an exception is raised. You can specify the type of exception to handle within the `except` clause (e.g., `except ZeroDivisionError`). If no exception type is specified, it will catch any exception. The code inside the `except` block is executed to handle the error gracefully.\n",
    "- **`else` block (optional):** This block executes only if the code in the `try` block completes successfully without raising any exceptions. It's useful for code that assumes normal execution.\n",
    "- **`finally` block (optional):** This block executes regardless of whether an exception is raised or not. It's commonly used for cleaning up resources like closing files or relea\n",
    "\n",
    "- `Difference between else and finally`\n",
    "\n",
    "- 1. else - only execute when try is worked\n",
    "  2. finally - executes when try or except anyone worked. In the function it will run even return is called in the try blocksing database connections.\n",
    "\n",
    "**Example: Handling Division by Zero**\n",
    "\n",
    "```python\n",
    "try:\n",
    "  result = 10 / 0\n",
    "except ZeroDivisionError:\n",
    "  print(\"Oops! Cannot divide by zero.\")\n",
    "else:\n",
    "  print(f\"The result is: {result}\")\n",
    "```\n",
    "\n",
    "In this example, the `try` block attempts to divide 10 by 0, which would normally raise a `ZeroDivisionError`. The `except` block catches this exception and prints a more informative message.\n",
    "\n",
    "**Catching Specific Exceptions**\n",
    "\n",
    "You can catch specific exceptions by mentioning the exception type within the `except` clause:\n",
    "\n",
    "```python\n",
    "try:\n",
    "  my_list = [1, 2, 3]\n",
    "  print(my_list[4])  # Trying to access an index out of range\n",
    "except IndexError:\n",
    "  print(\"Index out of range! Please use a valid index.\")\n",
    "```\n",
    "\n",
    "**Raising Your Own Exceptions**\n",
    "\n",
    "In some cases, you might want to explicitly raise an exception to signal an error condition in your code. You can use the `raise` keyword:\n",
    "\n",
    "```python\n",
    "def check_age(age):\n",
    "  if age < 18:\n",
    "    raise ValueError(\"Age must be 18 or older.\")\n",
    "  else:\n",
    "    print(\"You are eligible.\")\n",
    "\n",
    "try:\n",
    "  check_age(15)\n",
    "except ValueError as e:\n",
    "  print(e)  # Prints \"ValueError: Age must be 18 or older.\"\n",
    "```\n",
    "\n",
    "This example defines a function `check_age` that raises a `ValueError` if the provided age is less than 18.\n",
    "\n",
    "**Best Practices for Error Handling**\n",
    "\n",
    "- **Use specific exception types:** Catching specific exceptions allows for more targeted error handling.\n",
    "- **Provide informative error messages:** Help users understand the nature of the error.\n",
    "- **Use the `else` block carefully:** Don't rely on the `else` block assuming successful execution if there's a chance of exceptions.\n",
    "- **Use the `finally` block for cleanup:** Ensure resources are properly released, even if exceptions occur.\n",
    "\n",
    "By effectively handling errors, you can make your Python code more robust, maintainable, and user-friendly."
   ]
  },
  {
   "cell_type": "code",
   "execution_count": 44,
   "id": "673581ab-fbe2-4e32-bef4-4d1e003a5a07",
   "metadata": {},
   "outputs": [
    {
     "name": "stdout",
     "output_type": "stream",
     "text": [
      "Oops! Cannot divide by zero.\n"
     ]
    }
   ],
   "source": [
    "try:\n",
    "  result = 10 / 0\n",
    "except ZeroDivisionError:\n",
    "  print(\"Oops! Cannot divide by zero.\")\n",
    "else:\n",
    "  print(f\"The result is: {result}\")"
   ]
  },
  {
   "cell_type": "code",
   "execution_count": 48,
   "id": "e0baec52-63f0-4876-9fee-a24af712249b",
   "metadata": {},
   "outputs": [
    {
     "name": "stdout",
     "output_type": "stream",
     "text": [
      "Problem is  division by zero\n"
     ]
    }
   ],
   "source": [
    "try:\n",
    "    result = 10/0\n",
    "except Exception as e:\n",
    "    print(\"Problem is \", e)"
   ]
  },
  {
   "cell_type": "code",
   "execution_count": 52,
   "id": "2492fb9c-8400-4fba-a27c-46cfa23459c7",
   "metadata": {},
   "outputs": [
    {
     "ename": "ValueError",
     "evalue": "Age must be more than 18",
     "output_type": "error",
     "traceback": [
      "\u001b[1;31m---------------------------------------------------------------------------\u001b[0m",
      "\u001b[1;31mValueError\u001b[0m                                Traceback (most recent call last)",
      "Cell \u001b[1;32mIn[52], line 3\u001b[0m\n\u001b[0;32m      1\u001b[0m age \u001b[38;5;241m=\u001b[39m \u001b[38;5;241m18\u001b[39m\n\u001b[0;32m      2\u001b[0m \u001b[38;5;28;01mif\u001b[39;00m ( age \u001b[38;5;241m<\u001b[39m \u001b[38;5;241m20\u001b[39m):\n\u001b[1;32m----> 3\u001b[0m     \u001b[38;5;28;01mraise\u001b[39;00m \u001b[38;5;167;01mValueError\u001b[39;00m(\u001b[38;5;124m\"\u001b[39m\u001b[38;5;124mAge must be more than 18\u001b[39m\u001b[38;5;124m\"\u001b[39m)\n",
      "\u001b[1;31mValueError\u001b[0m: Age must be more than 18"
     ]
    }
   ],
   "source": [
    "age = 18\n",
    "if ( age < 20):\n",
    "    raise ValueError(\"Age must be more than 18\") \n",
    "# in this code we show an error intentionally to prevent a big problem after"
   ]
  },
  {
   "cell_type": "markdown",
   "id": "a69fc4b5-8029-4b90-825e-a625e6ac89bb",
   "metadata": {},
   "source": [
    "# File Handling"
   ]
  },
  {
   "cell_type": "markdown",
   "id": "298e7073-810d-434c-a9ee-cac4d312b35a",
   "metadata": {},
   "source": [
    "Absolutely! File handling in Python allows you to interact with files on your computer's storage system, enabling you to read from, write to, and manipulate file contents. Here's a comprehensive guide:\n",
    "\n",
    "**1. Opening a File**\n",
    "\n",
    "The foundation of file handling in Python is the `open()` function:\n",
    "\n",
    "```python\n",
    "file_object = open(\"filename.txt\", \"mode\")\n",
    "```\n",
    "\n",
    "- `filename.txt`: Replace this with the actual name of the file you want to work with.\n",
    "- `mode`: This specifies how you intend to open the file. Here are common modes:\n",
    "    - `'r'`: Read mode (default). Opens the file for reading existing content.\n",
    "    - `'w'`: Write mode. Creates a new file or overwrites an existing one.\n",
    "    - `'a'`: Append mode. Opens the file for appending new content at the end.\n",
    "    - `'r+'`: Read and write mode. Allows both reading and writing to an existing file. (Use with caution!)\n",
    "    - `'w+'`: Write and read mode (overwrites existing content).\n",
    "    - `'a+'`: Append and read mode. Similar to `'a'`, but allows reading as well.\n",
    "\n",
    "**2. Reading from a File**\n",
    "\n",
    "Once you have a file object, you can use different methods to read its contents:\n",
    "\n",
    "- `read()`: Reads the entire contents of the file into a string.\n",
    "- `readline()`: Reads a single line from the file and returns it as a string.\n",
    "- `readlines()`: Reads all lines from the file and returns them as a list of strings.\n",
    "\n",
    "**Example (Read Mode):**\n",
    "\n",
    "```python\n",
    "with open(\"data.txt\", \"r\") as file:\n",
    "  contents = file.read()  # Read the entire file\n",
    "  print(contents)\n",
    "\n",
    "  # Alternatively, read line by line:\n",
    "  for line in file:\n",
    "    print(line, end=\"\")  # Print each line without a newline\n",
    "```\n",
    "\n",
    "**3. Writing to a File**\n",
    "\n",
    "To write to a file, you need to open it in write (`'w'`) or append (`'a'`) mode. Then, use the `write()` method:\n",
    "\n",
    "```python\n",
    "with open(\"output.txt\", \"w\") as file:\n",
    "  file.write(\"This is some new content for the file.\\n\")\n",
    "  file.write(\"Adding another line.\")\n",
    "```\n",
    "\n",
    "**Important Note:** When using write modes (`'w'`, `'w+'`), existing file content will be overwritten. Be cautious!\n",
    "\n",
    "**4. Appending to a File**\n",
    "\n",
    "Use the `append` (`'a'`, `'a+'`) mode to add content to the end of an existing file:\n",
    "\n",
    "```python\n",
    "with open(\"log.txt\", \"a\") as file:\n",
    "  file.write(\"Appending a new log message.\\n\")\n",
    "```\n",
    "\n",
    "**5. Closing Files**\n",
    "\n",
    "It's crucial to close the file object when you're done using it. This releases resources and prevents potential issues. Python's `with` statement is a recommended way to ensure proper file closing, even if exceptions occur:\n",
    "\n",
    "```python\n",
    "with open(\"myfile.txt\") as file:\n",
    "  # Do something with the file here\n",
    "```\n",
    "\n",
    "**Additional Methods:**\n",
    "\n",
    "- `tell()`: Returns the current file position (useful for seeking within the file).\n",
    "- `seek(offset, whence=0)`: Changes the file position (allows you to move around the file for reading or writing).\n",
    "- `close()`: Explicitly closes the file object (less common with the `with` statement).\n",
    "\n",
    "**Error Handling:**\n",
    "\n",
    "When working with files, it's essential to handle potential errors like `FileNotFoundError` if the file doesn't exist or `IOError` for other file-related issues. You can use `try...except` blocks to gracefully handle exceptions.\n",
    "\n",
    "By understanding these concepts and methods, you'll be well-equipped to perform file operations in your Python projects!"
   ]
  },
  {
   "cell_type": "code",
   "execution_count": 6,
   "id": "e852a9ff-9958-497b-b51f-fa7fb29e08a4",
   "metadata": {},
   "outputs": [
    {
     "name": "stdout",
     "output_type": "stream",
     "text": [
      "\n"
     ]
    }
   ],
   "source": [
    "with open('new.txt','w') as file:\n",
    "    file.write(\"hello\")\n",
    "    nfile = open('new.txt','r')\n",
    "    print(nfile.read())"
   ]
  },
  {
   "cell_type": "markdown",
   "id": "f6c0a1e7-0c72-4531-995f-5b8772ebfc81",
   "metadata": {},
   "source": [
    "# Dictionary"
   ]
  },
  {
   "cell_type": "markdown",
   "id": "30fee691-b70e-4e2d-be39-92ffcfb7076e",
   "metadata": {},
   "source": [
    "`Differences between lists, tuples, sets, and dictionaries in Python`\n",
    "\n",
    "**Data Structure** | **Mutability** | **Order** | **Duplicates** | **Key-Value Pairs** | **Use Cases**\n",
    "---|---|---|---|---|---|\n",
    "**List** | Mutable | Ordered | Allowed | No | Storing ordered sequences of items (shopping list, student grades)\n",
    "**Tuple** | Immutable | Ordered | Allowed | No | Representing fixed data (coordinates, data records)\n",
    "**Set** | Mutable | Unordered | Not Allowed | No | Performing membership checks, removing duplicates (unique words in a text)\n",
    "**Dictionary** | Mutable | Ordered (Python 3.7+) | Not Allowed (for keys) | Yes | Storing data with labels/keys (phonebook, user profiles)\n",
    "**Array** (not built-in) | Can be mutable or immutable | Ordered | Allowed | No | Efficient storage of large, homogenous data (numerical data for calculations)\n",
    "\n",
    "**Key Points:**\n",
    "\n",
    "* **Mutability:** Lists, sets, and dictionaries can be modified after creation. Tuples are fixed once created.\n",
    "* **Order:** Lists and tuples maintain the order elements are added. Sets and dictionaries (Python 3.6 and below) are unordered. In Python 3.7+, dictionaries became ordered.\n",
    "* **Duplicates:** Lists and tuples can have duplicates. Sets don't allow duplicates for elements, and dictionaries don't allow duplicates for keys.\n",
    "* **Key-Value Pairs:** Dictionaries use key-value pairs for accessing data, while others use indexes.\n",
    "* **Arrays:** Python doesn't have a built-in array data structure, but you can implement it using lists or modules like NumPy for numerical arrays.\n",
    "\n",
    "**Choosing the right data structure depends on your needs:**\n",
    "\n",
    "* Use lists for general-purpose ordered collections that may change.\n",
    "* Use tuples for fixed data you don't want to accidentally modify.\n",
    "* Use sets for unordered collections where you only need unique elements.\n",
    "* Use dictionaries for storing data with labels or keys foo see some code examples.mbers.mbers.mbers.mbers.mbers."
   ]
  },
  {
   "cell_type": "markdown",
   "id": "e8608c76-2bfe-4455-894c-c698baa2582c",
   "metadata": {},
   "source": [
    "In Python, a dictionary is a powerful data structure that stores information in a **key-value** format. It's like a phonebook where you look up a name (key) to find a phone number (value). Here's a breakdown of dictionaries and their methods:\n",
    "\n",
    "**Creating a Dictionary**\n",
    "\n",
    "You use curly braces `{}` to create a dictionary, with keys and values separated by colons `:` and comma-separated pairs enclosed within the braces. Keys must be unique and immutable (can't be changed after creation), while values can be any data type (numbers, strings, lists, even other dictionaries).\n",
    "\n",
    "```python\n",
    "phonebook = {\n",
    "    \"Alice\": \"123-456-7890\",\n",
    "    \"Bob\": \"987-654-3210\",\n",
    "    \"Charlie\": [\"555-123-4567\", \"555-567-8901\"]  # Can have lists as values\n",
    "}\n",
    "```\n",
    "\n",
    "**Accessing Values**\n",
    "\n",
    "Use the key within square brackets `[]` to access the corresponding value in a dictionary. If the key doesn't exist, you'll get a `KeyError`.\n",
    "\n",
    "```python\n",
    "alice_number = phonebook[\"Alice\"]\n",
    "print(alice_number)  # Output: 123-456-7890\n",
    "```\n",
    "\n",
    "**Adding or Modifying Key-Value Pairs**\n",
    "\n",
    "You can add new key-value pairs by assigning a value to a new key within square brackets. To modify an existing value, simply assign a new value to the existing key.\n",
    "\n",
    "```python\n",
    "phonebook[\"David\"] = \"456-098-7321\"  # Add new entry\n",
    "phonebook[\"Charlie\"] = \"555-789-0123\"  # Modify existing value\n",
    "```\n",
    "\n",
    "**Removing Key-Value Pairs**\n",
    "\n",
    "There are two ways to remove entries from a dictionary:\n",
    "\n",
    "1. `del`: Use the `del` keyword followed by the key in square brackets to remove the key-value pair.\n",
    "2. `pop(key, default=None)`: The `pop` method removes and returns the value associated with the key. If the key doesn't exist, you can provide a default value (optional) to avoid a `KeyError`.\n",
    "\n",
    "**Common Dictionary Methods**\n",
    "\n",
    "Python provides various methods for working with dictionaries:\n",
    "\n",
    "- `keys()`: Returns a view of all the keys in the dictionary.\n",
    "- `values()`: Returns a view of all the values in the dictionary.\n",
    "- `items()`: Returns a view of all the key-value pairs as tuples.\n",
    "- `get(key, default=None)`: Returns the value of the specified key. If the key doesn't exist, you can provide a default value (optional).\n",
    "- `clear()`: Removes all key-value pairs from the dictionary.\n",
    "- `copy()`: Returns a shallow copy of the dictionary.\n",
    "- `update(other_dict)`: Updates the dictionary with key-value pairs from another dictionary.\n",
    "\n",
    "**Example: Using Dictionary Methods**\n",
    "\n",
    "```python\n",
    "# Check if a key exists\n",
    "if \"David\" in phonebook:\n",
    "    print(\"David's number is in the phonebook\")\n",
    "\n",
    "# Get all keys and values separately\n",
    "all_keys = phonebook.keys()\n",
    "all_values = phonebook.values()\n",
    "\n",
    "# Iterate over key-value pairs\n",
    "for name, number in phonebook.items():\n",
    "    print(f\"{name}: {number}\")\n",
    "```\n",
    "\n",
    "I hope this comprehensive explanation clarifies dictionaries and their methods in Python!"
   ]
  },
  {
   "cell_type": "markdown",
   "id": "4d3417d6-c591-41db-a9d6-e99a0f27f5a4",
   "metadata": {},
   "source": [
    "# Tuple\n",
    "\n",
    "**Tuples in Python**\n",
    "\n",
    "Tuples are ordered, immutable collections of elements in Python. They are similar to lists but cannot be modified after creation. This immutability makes them useful for storing data that should remain unchanged throughout the program's execution.\n",
    "\n",
    "**Creating Tuples**\n",
    "\n",
    "There are two primary ways to create tuples:\n",
    "\n",
    "1. **Using parentheses:** The most common approach.\n",
    "   ```python\n",
    "   my_tuple = (1, \"hello\", 3.14)\n",
    "   ```\n",
    "\n",
    "2. **Using the `tuple()` function:** Less common but can be useful for converting other iterables (like lists) to tuples.\n",
    "   ```python\n",
    "   my_list = [10, \"world\", 2.71]\n",
    "   my_tuple = tuple(my_list)\n",
    "   ```\n",
    "\n",
    "In both methods, elements within the parentheses or passed to the `tuple()` function are enclosed in commas. Empty tuples can be created using empty parentheses `()`.\n",
    "\n",
    "**Accessing Elements**\n",
    "\n",
    "Tuples are indexed starting from 0, similar to lists. You can access individual elements using their index within square brackets `[]`:\n",
    "```python\n",
    "my_tuple = (42, \"answer\", True)\n",
    "first_element = my_tuple[0]   # first_element will be 42\n",
    "second_element = my_tuple[1]  # second_element will be \"answer\"\n",
    "```\n",
    "\n",
    "**Negative indexing** allows you to access elements from the end, starting with -1 for the last element.\n",
    "\n",
    "**Slicing** extracts a sub-tuple from the original tuple using the same syntax as lists: `[start:end:step]`. The `step` value defaults to 1 for forward extraction.\n",
    "```python\n",
    "my_tuple = (1, 2, 3, 4, 5)\n",
    "sub_tuple = my_tuple[1:4]  # sub_tuple will be (2, 3, 4)\n",
    "```\n",
    "\n",
    "**Immutability**\n",
    "\n",
    "A key aspect of tuples is their immutability. Unlike lists, you cannot modify elements within a tuple after its creation. This enforces data integrity and helps prevent accidental changes.\n",
    "\n",
    "**Tuple Methods**\n",
    "\n",
    "While tuples have limited built-in methods due to their immutable nature, here are the two commonly used ones:\n",
    "\n",
    "1. **`count(element)`:** Counts the number of times a specific element appears in the tuple.\n",
    "   ```python\n",
    "   my_tuple = (1, 2, 3, 1, 2)\n",
    "   count_of_1 = my_tuple.count(1)  # count_of_1 will be 2\n",
    "   ```\n",
    "\n",
    "2. **`index(element)`:** Returns the index of the first occurrence of a specified element. Raises a `ValueError` if the element is not found.\n",
    "   ```python\n",
    "   my_tuple = (\"apple\", \"banana\", \"cherry\")\n",
    "   index_of_banana = my_tuple.index(\"banana\")  # index_of_banana will be 1\n",
    "   ```\n",
    "\n",
    "**Common Uses of Tuples**\n",
    "\n",
    "- Storing heterogeneous data (elements of different data types) that should remain unchanged.\n",
    "- Representing fixed-size data structures, like coordinates or configuration settings.\n",
    "- Using as dictionary keys since they are immutable (ensuring hashable keys).\n",
    "- Returning multiple values from functions.\n",
    "- Representing data that needs to be passed to multiple functions without modification.\n",
    "\n",
    "**In Summary**\n",
    "\n",
    "Tuples offer an efficient way to store and access ordered, immutable collections of elements in Python. Their immutability makes them ideal for scenarios where data integrity is crucial. By understanding their creation, access methods, and common uses, you can effectively leverage tuples in your Python applications.\n",
    "\n"
   ]
  },
  {
   "cell_type": "code",
   "execution_count": null,
   "id": "c5e4a060-bcdb-4884-9c6f-1472d6d8ee56",
   "metadata": {},
   "outputs": [],
   "source": []
  },
  {
   "cell_type": "markdown",
   "id": "b6f6c80a-4e6f-4c6f-b2d0-6401bef6981a",
   "metadata": {},
   "source": [
    "# Function "
   ]
  },
  {
   "cell_type": "markdown",
   "id": "3a39d826-a47e-40f1-8d63-cba0f453ed1e",
   "metadata": {},
   "source": [
    "`basic structure to write so many functions in a program`\n",
    "1. Function work from the deeper\n",
    "2. example : print(int(input(\"ENter : \"))))\n",
    "   here workflow = input -> int -> print"
   ]
  },
  {
   "cell_type": "code",
   "execution_count": 1,
   "id": "c83bd3be-1c85-4168-b3bf-968bf4cdc2c9",
   "metadata": {},
   "outputs": [
    {
     "name": "stdout",
     "output_type": "stream",
     "text": [
      "Hello World\n"
     ]
    }
   ],
   "source": [
    "def main():\n",
    "    print(\"Hello\",end=(\" \"))\n",
    "    func1()\n",
    "\n",
    "def func1():\n",
    "    print(\"World\")\n",
    "\n",
    "main()"
   ]
  },
  {
   "cell_type": "markdown",
   "id": "3bf66683-4cb6-4162-9478-584d0ae1b8a0",
   "metadata": {},
   "source": [
    "`Argument and Parameter`\n",
    "\n",
    "1. *args -> take unlimited argument as tuple\n",
    "2. **kwargs -> take unlimited argument as dictionary\n",
    "3. func1(age,name = 'wasif') -- here name = 'wasif' measns default argument\n",
    "   "
   ]
  },
  {
   "cell_type": "code",
   "execution_count": 9,
   "id": "d666bd88-d9e1-498b-80b1-f8542fba4303",
   "metadata": {},
   "outputs": [
    {
     "name": "stdout",
     "output_type": "stream",
     "text": [
      "1\n",
      "2\n",
      "3\n",
      "4\n",
      "<class 'tuple'>\n"
     ]
    }
   ],
   "source": [
    "def f1(*args):\n",
    "    for i in args:\n",
    "        print(i)\n",
    "    print(type(args))\n",
    "\n",
    "f1(1,2,3,4)"
   ]
  },
  {
   "cell_type": "code",
   "execution_count": 15,
   "id": "19b8c66b-3026-4f79-a3ef-c8ab90905eaa",
   "metadata": {},
   "outputs": [
    {
     "name": "stdout",
     "output_type": "stream",
     "text": [
      "name ---- wasif\n",
      "age ---- 12\n",
      "<class 'dict'>\n"
     ]
    }
   ],
   "source": [
    "def f2(**kwargs):\n",
    "    for i in kwargs:\n",
    "        print(i,\"----\",kwargs[i])  #here i is key , and kwargs[i] means value\n",
    "    print(type(kwargs))\n",
    "\n",
    "f2(name = 'wasif',age = 12)"
   ]
  },
  {
   "cell_type": "code",
   "execution_count": 18,
   "id": "5854bc4f-01a6-4d73-9fd8-f12de8e9ba73",
   "metadata": {},
   "outputs": [
    {
     "name": "stdout",
     "output_type": "stream",
     "text": [
      "1 2 3\n",
      "4 5 6\n"
     ]
    }
   ],
   "source": [
    "def f3(a,b,c=3):\n",
    "    print(a,b,c)\n",
    "\n",
    "f3(1,2)  # c will be automatically get 3\n",
    "f3(4,5,6) # c will be updated"
   ]
  },
  {
   "cell_type": "markdown",
   "id": "587e04f0-54d2-458a-b501-7ed9fa5ac9c2",
   "metadata": {},
   "source": [
    "## Filter , Map,  Lambda , Ternary"
   ]
  },
  {
   "cell_type": "markdown",
   "id": "8dc1f5ed-b0eb-4cbe-99f3-0b37536866c4",
   "metadata": {},
   "source": [
    "`Filter = Collecting with condition`\n",
    "We can collect selective element of a list by using filter function"
   ]
  },
  {
   "cell_type": "code",
   "execution_count": 22,
   "id": "def10049-a2d0-4775-adf9-6456476c0def",
   "metadata": {},
   "outputs": [
    {
     "name": "stdout",
     "output_type": "stream",
     "text": [
      "using filter [2, 4, 6, 8, 10]\n"
     ]
    }
   ],
   "source": [
    "ls = [1,2,3,4,5,6,7,8,9,10]\n",
    "\n",
    "def filter_func(n):\n",
    "    # we are taking one argument 'n' for grabbing one item in the list per time\n",
    "    if n % 2 == 0 :\n",
    "        return n\n",
    "\n",
    "ls2 = list(filter(filter_func,ls)) # dont write parenthesis (), after function name \n",
    "print(\"using filter\",ls2)"
   ]
  },
  {
   "cell_type": "markdown",
   "id": "45260858-f3d4-4d9c-9b76-1a295d641d17",
   "metadata": {},
   "source": [
    "`Map = Shaping`\n",
    "We can modify all the element of a list by using map function"
   ]
  },
  {
   "cell_type": "code",
   "execution_count": 23,
   "id": "bc82599c-4e04-4a59-b2e1-efb8ce1594f0",
   "metadata": {},
   "outputs": [
    {
     "name": "stdout",
     "output_type": "stream",
     "text": [
      "using map [1, 4, 9, 16, 25, 36, 49, 64, 81, 100]\n"
     ]
    }
   ],
   "source": [
    "ls = [1,2,3,4,5,6,7,8,9,10]\n",
    "\n",
    "def map_func(n):\n",
    "        return n ** 2\n",
    "\n",
    "ls2 = list(map(map_func,ls))\n",
    "print(\"using map\",ls2)"
   ]
  },
  {
   "cell_type": "markdown",
   "id": "2d0299b4-6029-4457-ab1e-e8bc954b8490",
   "metadata": {},
   "source": [
    "`Lamda Function = Single line function, we use it for one time `\n",
    "1. Here,\n",
    "2. func1 -> function name\n",
    "3. lambda -> def\n",
    "4. first n -> argument\n",
    "5. n ** 2 -> return value"
   ]
  },
  {
   "cell_type": "code",
   "execution_count": 24,
   "id": "d9ee1e3f-3114-4568-bfa1-de6f9f1b3996",
   "metadata": {},
   "outputs": [
    {
     "name": "stdout",
     "output_type": "stream",
     "text": [
      "16\n"
     ]
    }
   ],
   "source": [
    "func1 = lambda n : n ** 2\n",
    "print(func1(4))"
   ]
  },
  {
   "cell_type": "code",
   "execution_count": 25,
   "id": "752ae764-3512-4e2c-8442-5628fb98ac18",
   "metadata": {},
   "outputs": [
    {
     "name": "stdout",
     "output_type": "stream",
     "text": [
      "[1, 8, 27]\n"
     ]
    }
   ],
   "source": [
    "#we can use map and lamda together\n",
    "\n",
    "ls = [1,2,3]\n",
    "\n",
    "print(list(map(lambda n : n** 3 , ls)))"
   ]
  },
  {
   "cell_type": "markdown",
   "id": "147f4b45-968a-4a5b-819f-faad8ba48541",
   "metadata": {},
   "source": [
    "`Ternary Operator`"
   ]
  },
  {
   "cell_type": "code",
   "execution_count": 32,
   "id": "539b5ca7-d240-4b09-ac96-6e0422dfc7ca",
   "metadata": {},
   "outputs": [
    {
     "name": "stdout",
     "output_type": "stream",
     "text": [
      "Right\n",
      "50\n"
     ]
    }
   ],
   "source": [
    "print(\"Right\") if 2 > 1 else print(\"Wrong\")\n",
    "\n",
    "var1 = 50 if (2 > 1 ) else 100 # we can use ternary to set values in a variable also\n",
    "print(var1)"
   ]
  },
  {
   "cell_type": "markdown",
   "id": "a1ed7d81-c15d-4f38-8787-61521e4bec12",
   "metadata": {},
   "source": [
    "# Scope Variable - Visibility of a variable from different position of a program"
   ]
  },
  {
   "cell_type": "markdown",
   "id": "ae4ef135-fab9-4d76-b212-8c9d3a221b21",
   "metadata": {},
   "source": [
    "`LEGB RULE -> Priority`\n",
    "\n",
    "1. Local\n",
    "2. Enclosing Function Local\n",
    "3. Global\n",
    "4. Built In\n"
   ]
  },
  {
   "cell_type": "code",
   "execution_count": 42,
   "id": "3ad57117-f198-43fb-bde1-cd0f5e775c58",
   "metadata": {},
   "outputs": [
    {
     "name": "stdout",
     "output_type": "stream",
     "text": [
      "shihab\n"
     ]
    }
   ],
   "source": [
    "name = 'wasif' # Global Vaiable\n",
    "\n",
    "def greet():\n",
    "    name = 'hossain' # Enclosing Function Local\n",
    "    def hello():\n",
    "        name = 'shihab'  #local\n",
    "          \n",
    "        print(name)\n",
    "    hello()\n",
    "    \n",
    "greet()\n",
    "\n",
    "# if we use len() method then it would be built in scope\n",
    "# if we comment out shihab and hossain then wasif will be printed\n",
    "\n",
    "\n"
   ]
  },
  {
   "cell_type": "code",
   "execution_count": 44,
   "id": "f65e9dc0-838f-4226-b84f-33f848b6a369",
   "metadata": {},
   "outputs": [
    {
     "name": "stdout",
     "output_type": "stream",
     "text": [
      "30\n",
      "50\n"
     ]
    }
   ],
   "source": [
    "# ** Global Keyword **\n",
    "x = 50\n",
    "def num():\n",
    "    x = 30\n",
    "    print(x)\n",
    "num()\n",
    "print(x)"
   ]
  },
  {
   "cell_type": "code",
   "execution_count": 45,
   "id": "bf40e80b-e6a2-438f-b68f-3838039fa799",
   "metadata": {},
   "outputs": [
    {
     "name": "stdout",
     "output_type": "stream",
     "text": [
      "30\n",
      "30\n"
     ]
    }
   ],
   "source": [
    "x = 50\n",
    "def num():\n",
    "    global x    # global keyword - changed the original value \n",
    "    x = 30\n",
    "    print(x)\n",
    "num()\n",
    "print(x)"
   ]
  },
  {
   "cell_type": "code",
   "execution_count": 49,
   "id": "06eabead-d019-4763-b992-f72c1c37891b",
   "metadata": {},
   "outputs": [
    {
     "name": "stdout",
     "output_type": "stream",
     "text": [
      "Enter five numbers :  1 2 3 4 5\n"
     ]
    },
    {
     "name": "stdout",
     "output_type": "stream",
     "text": [
      "[1, 2, 3, 4, 5]\n"
     ]
    }
   ],
   "source": []
  },
  {
   "cell_type": "markdown",
   "id": "8b259f68-00cd-4f68-bee4-8f66695e845d",
   "metadata": {},
   "source": [
    "# Enumerate() in Python\n",
    "\n",
    "`it helps to remove the hassle of count variable in for loop`\n",
    "\n",
    "Often, when dealing with iterators, we also need to keep a count of iterations. Python eases the programmers’ task by providing a built-in function enumerate() for this task. The enumerate () method adds a counter to an iterable and returns it in the form of an enumerating object. This enumerated object can then be used directly for loops or converted into a list of tuples using the list() function."
   ]
  },
  {
   "cell_type": "code",
   "execution_count": 2,
   "id": "70e3edb8-cad3-4aa5-8414-5abd5b9e8f06",
   "metadata": {},
   "outputs": [
    {
     "name": "stdout",
     "output_type": "stream",
     "text": [
      "[(0, 'eat'), (1, 'sleep'), (2, 'code')]\n"
     ]
    }
   ],
   "source": [
    "ls = [\"eat\",\"sleep\",\"code\"]\n",
    "print(list(enumerate(ls)))"
   ]
  },
  {
   "cell_type": "code",
   "execution_count": 6,
   "id": "46b76e32-6c21-4073-b59d-5133d98011e2",
   "metadata": {},
   "outputs": [
    {
     "name": "stdout",
     "output_type": "stream",
     "text": [
      "eat\n",
      "sleep\n",
      "And oversleeping is not good\n",
      "code\n",
      "eat\n",
      "sleep\n",
      "And this is not good\n",
      "code\n"
     ]
    }
   ],
   "source": [
    "ls = [\"eat\",\"sleep\",\"code\"]\n",
    "\n",
    "for i,x in enumerate(ls):\n",
    "    print(x)\n",
    "    if i == 1:\n",
    "        print(\"And oversleeping is not good\")\n",
    "\n",
    "# previous process was\n",
    "count = 0\n",
    "for x in ls:\n",
    "    print(x)\n",
    "    if(count == 1):\n",
    "        print(\"And this is not good\")\n",
    "    count += 1"
   ]
  },
  {
   "cell_type": "markdown",
   "id": "132b3bf2-9973-41a6-976d-a34dfffd81be",
   "metadata": {},
   "source": [
    "# Virtual Environment\n",
    "\n",
    "A virtual environment is a toolto make a virtual python interpreter which can have different version of package or module for running a specific project. it used to isolate specific Python environments on a single machine, allowing you to work on multiple projects with different dependencies and packages without conflicts. This can be especially useful when working on projects that have conflicting package versions or packages that are not compatible with each other.\n",
    "\n",
    "To create a virtual environment in Python, you can use the venv module that comes with Python. Here's an example of how to create a virtual environment and activate \n",
    "\n",
    "### Create a virtual environment\n",
    "python -m venv myenv\n",
    "#\n",
    "# Activate the virtual environment (Linux/macOS)\n",
    "source myenv/bin/activat#e\n",
    "# Activate the virtual environment (Windows)\n",
    "myenv\\Scripts\\activat\n",
    "\n",
    "\n",
    "## Deactivate the virtual environment\n",
    "\n",
    "`deactivate`\n",
    "\n",
    "### NOw how to share this to my collegue\n",
    "\n",
    "first of all we need to find out all the pachage and version\n",
    "`python freeze > requirements.txt` .. it will produce a txt file with info\n",
    "\n",
    "then how your friend will install it ?\n",
    "`pip install -r requirements.txt`ee.batit:"
   ]
  },
  {
   "cell_type": "markdown",
   "id": "6a01c8ff",
   "metadata": {},
   "source": [
    "\n",
    "# Identity Operators in Python\n",
    "\n",
    "In Python, identity operators are used to compare the memory location of objects, not their values. This means they check if two variables refer to the exact same object in memory. There are two identity operators:\n",
    "\n",
    "1. **`is`**: Returns `True` if the objects on either side of the operator are the same object in memory, and `False` otherwise.\n",
    "2. **`is not`**: Returns `True` if the objects on either side of the operator are not the same object in memory, and `False` otherwise.\n",
    "\n",
    "**Understanding Identity vs. Equality**\n",
    "\n",
    "It's important to distinguish between identity (`is`) and equality (`==`):\n",
    "\n",
    "- **Identity (`is`):** Compares memory locations. If two variables refer to the same object, `is` will return `True`.\n",
    "- **Equality (`==`):** Compares the values of objects. If two objects have the same value, but they are different objects in memory, `==` will return `True`.\n",
    "\n",
    "**Examples**\n",
    "\n",
    "1. **Immutable Objects (Numbers, Strings)**\n",
    "\n",
    "   Since immutable objects like numbers and strings are generally created once and reused in memory, assigning the same value to two variables often results in them pointing to the same object:\n",
    "\n",
    "   ```python\n",
    "   x = 10\n",
    "   y = 10\n",
    "   print(x is y)  # Output: True (same object in memory)\n",
    "   ```\n",
    "\n",
    "2. **Mutable Objects (Lists, Dictionaries)**\n",
    "\n",
    "   However, for mutable objects like lists and dictionaries, even if they have the same values, they might be different objects in memory:\n",
    "\n",
    "   ```python\n",
    "   a = [1, 2, 3]\n",
    "   b = [1, 2, 3]\n",
    "   print(a is b)  # Output: False (different objects in memory)\n",
    "   print(a == b)  # Output: True (same values)\n",
    "   ```\n",
    "\n",
    "3. **Assigning Objects**\n",
    "\n",
    "   If you assign one mutable object to another, they point to the same object:\n",
    "\n",
    "   ```python\n",
    "   c = a\n",
    "   print(c is a)  # Output: True (same object)\n",
    "   ```\n",
    "\n",
    "   Modifying `c` will also modify `a` because they reference the same object.\n",
    "\n",
    "**When to Use Identity Operators**\n",
    "\n",
    "Identity operators are typically used in specific scenarios:\n",
    "\n",
    "- **Checking if singletons are the same object:** Singletons are objects designed to have a single instance. You can use `is` to verify that two variables refer to the same singleton object.\n",
    "- **Optimizing code for specific cases:** In rare cases, you might use `is` to avoid unnecessary operations if you know objects won't change. However, this can make code less readable and maintainable, so use it judiciously.\n",
    "\n",
    "**In General**\n",
    "\n",
    "- For most comparisons, use the equality operator (`==`) to check if objects have the same values.\n",
    "- Identity operators are less commonly used but can be helpful in specific situations where you need to verify memory locations."
   ]
  },
  {
   "cell_type": "markdown",
   "id": "d71ef691",
   "metadata": {},
   "source": [
    "# (`dir()`, `__dict__`, and `help()`) \n",
    "**1. `dir()`**\n",
    "\n",
    "- **Function:** The `dir()` function returns a list containing the names of the attributes (methods, properties, and other members) of an object.\n",
    "- **Purpose:** It's a versatile tool for exploring what you can do with an object. It can list instance variables, inherited methods, and built-in methods.\n",
    "- **Example:**\n",
    "\n",
    "```python\n",
    "class MyClass:\n",
    "    def __init__(self, value):\n",
    "        self.value = value\n",
    "\n",
    "    def method1(self):\n",
    "        print(\"This is method1\")\n",
    "\n",
    "# Create an object\n",
    "my_object = MyClass(10)\n",
    "\n",
    "# Get the list of attributes (including methods)\n",
    "attributes = dir(my_object)\n",
    "print(attributes)\n",
    "```\n",
    "\n",
    "This will output something like:\n",
    "\n",
    "```\n",
    "['__class__', '__delattr__', '__dict__', '__dir__', '__doc__', '__eq__', '__format__', '__ge__', '__getattribute__', '__getstate__', '__gt__', '__hash__', '__init__', '__init_subclass__', '__le__', '__lt__', '__module__', '__ne__', '__new__', '__reduce__', '__reduce_ex__', '__repr__', '__setattr__', '__sizeof__', '__str__', '__subclasshook__', '__weakref__', 'method1', 'value']\n",
    "```\n",
    "\n",
    "**2. `__dict__`**\n",
    "\n",
    "- **Attribute:** The `__dict__` attribute is a dictionary-like object that represents the namespace of an object's instance variables (attributes defined within the object's `__init__` method or dynamically assigned).\n",
    "- **Purpose:** It provides a way to access and potentially modify the object's instance variables. However, modifying `__dict__` directly is generally discouraged as it can bypass access control mechanisms.\n",
    "- **Example:**\n",
    "\n",
    "```python\n",
    "print(my_object.__dict__)\n",
    "```\n",
    "\n",
    "This will output:\n",
    "\n",
    "```\n",
    "{'value': 10}\n",
    "```\n",
    "\n",
    "**3. `help()`**\n",
    "\n",
    "- **Function:** The `help()` function displays documentation for objects, including functions, modules, classes, and methods. It retrieves information from the object's docstring (a string contained within the object definition that provides a description).\n",
    "- **Purpose:** It's invaluable for getting detailed information about how to use an object or function, including its arguments, return values, and any exceptions it might raise.\n",
    "- **Example:**\n",
    "\n",
    "```python\n",
    "help(my_object.method1)\n",
    "```\n",
    "\n",
    "This will display the docstring for the `method1` function, if one is defined.\n",
    "\n",
    "**Key Points:**\n",
    "\n",
    "- Use `dir()` to get a general overview of an object's attributes.\n",
    "- Use `__dict__` to access or modify an object's instance variables (with caution).\n",
    "- Use `help()` to get detailed documentation about an object's functionality.\n",
    "\n",
    "By effectively combining these tools, you can gain a deeper understanding of objects in your Python programs, leading to more efficient and maintainable code."
   ]
  },
  {
   "cell_type": "code",
   "execution_count": 7,
   "id": "35824019",
   "metadata": {},
   "outputs": [
    {
     "name": "stdout",
     "output_type": "stream",
     "text": [
      "{'name': 'wasif'}\n",
      "['__class__', '__delattr__', '__dict__', '__dir__', '__doc__', '__eq__', '__format__', '__ge__', '__getattribute__', '__getstate__', '__gt__', '__hash__', '__init__', '__init_subclass__', '__le__', '__lt__', '__module__', '__ne__', '__new__', '__reduce__', '__reduce_ex__', '__repr__', '__setattr__', '__sizeof__', '__str__', '__subclasshook__', '__weakref__', 'm', 'name']\n",
      "Help on class P in module __main__:\n",
      "\n",
      "class P(builtins.object)\n",
      " |  Methods defined here:\n",
      " |\n",
      " |  __init__(self)\n",
      " |      Initialize self.  See help(type(self)) for accurate signature.\n",
      " |\n",
      " |  m(self)\n",
      " |\n",
      " |  ----------------------------------------------------------------------\n",
      " |  Data descriptors defined here:\n",
      " |\n",
      " |  __dict__\n",
      " |      dictionary for instance variables\n",
      " |\n",
      " |  __weakref__\n",
      " |      list of weak references to the object\n",
      "\n",
      "None\n"
     ]
    }
   ],
   "source": [
    "class P:\n",
    "    def __init__(self):\n",
    "        self.name = 'wasif'\n",
    "    def m(self):\n",
    "        print(\"Hell\")\n",
    "\n",
    "obj = P()\n",
    "print(obj.__dict__)\n",
    "print(dir(obj))\n",
    "print(help(P))"
   ]
  },
  {
   "cell_type": "markdown",
   "id": "64b400fa",
   "metadata": {},
   "source": [
    "\n",
    "# The `os` Module\n",
    "\n",
    "The `os` module is a built-in Python library that provides a variety of functions for interacting with the operating system. It allows you to perform tasks like:\n",
    "\n",
    "- **File and Directory Management:** Creating, removing, renaming, and navigating directories and files.\n",
    "- **Environment Variables:** Accessing and manipulating environment variables.\n",
    "- **Process Management:** Starting, stopping, and waiting for processes.\n",
    "- **File System Information:** Getting information about the file system, such as the current working directory and disk usage.\n",
    "- **Other OS-Specific Operations:** Performing various platform-dependent tasks (use with caution due to potential portability issues).\n",
    "\n",
    "**Importing the `os` Module**\n",
    "\n",
    "To use the `os` module in your Python program, you first need to import it:\n",
    "\n",
    "```python\n",
    "import os\n",
    "```\n",
    "\n",
    "**Common Methods in the `os` Module**\n",
    "\n",
    "Here are some of the most frequently used methods in the `os` module, along with explanations and examples:\n",
    "\n",
    "1. **File and Directory Management**\n",
    "\n",
    "   - `os.getcwd()`: Gets the current working directory.\n",
    "     ```python\n",
    "     current_dir = os.getcwd()\n",
    "     print(current_dir)\n",
    "     ```\n",
    "   - `os.listdir(path)`: Lists all files and directories in a given path (defaults to the current working directory if no path is provided).\n",
    "     ```python\n",
    "     files = os.listdir()\n",
    "     for file in files:\n",
    "         print(file)\n",
    "     ```\n",
    "   - `os.mkdir(path)`: Creates a new directory.\n",
    "     ```python\n",
    "     os.mkdir(\"new_folder\")  # Creates a directory named \"new_folder\"\n",
    "     ```\n",
    "   - `os.makedirs(path, exist_ok=True)`: Creates a directory and any necessary parent directories (similar to `mkdir -p` in Bash).\n",
    "     ```python\n",
    "     os.makedirs(\"nested/folders\", exist_ok=True)  # Creates \"nested/folders\" even if \"nested\" doesn't exist\n",
    "     ```\n",
    "   - `os.chdir(path)`: Changes the current working directory.\n",
    "     ```python\n",
    "     os.chdir(\"path/to/new/directory\")\n",
    "     ```\n",
    "   - `os.path.join(path1, path2, ...)`: Joins multiple path components into a single path string in a platform-independent way.\n",
    "     ```python\n",
    "     data_file = os.path.join(\"data\", \"myfile.txt\")\n",
    "     ```\n",
    "   - `os.remove(path)`: Removes (deletes) a file. **Use with caution!**\n",
    "     ```python\n",
    "     os.remove(\"myfile.txt\")  # Deletes \"myfile.txt\" (be sure you want to do this)\n",
    "     ```\n",
    "   - `os.rmdir(path)`: Removes an empty directory. **Use with caution!**\n",
    "     ```python\n",
    "     os.rmdir(\"empty_folder\")  # Deletes \"empty_folder\" if it's empty\n",
    "     ```\n",
    "   - `os.rename(src, dst)`: Renames a file or directory.\n",
    "     ```python\n",
    "     os.rename(\"old_name.txt\", \"new_name.txt\")\n",
    "     ```\n",
    "\n",
    "2. **Environment Variables**\n",
    "\n",
    "   - `os.environ`: A dictionary-like object containing the environment variables.\n",
    "     ```python\n",
    "     print(os.environ[\"HOME\"])  # Prints the user's home directory path\n",
    "     ```\n",
    "   - `os.getenv(key, default=None)`: Gets the value of an environment variable, with an optional default value if the variable doesn't exist.\n",
    "\n",
    "3. **Process Management**\n",
    "\n",
    "   - `os.system(command)`: Executes a shell command and returns the exit status (use with caution due to security risks).\n",
    "\n",
    "4. **File System Information**\n",
    "\n",
    "   - `os.stat(path)`: Returns a `stat_result` object with details about a file or directory (use `os.stat.__dict__` to see available attributes).\n",
    "     ```python\n",
    "     stats = os.stat(\"myfile.txt\")\n",
    "     print(stats.st_size)  # Prints the size of \"myfile.txt\" in bytes\n",
    "     ```\n",
    "\n",
    "**Additional Points**\n",
    "\n",
    "- Be cautious when using methods that modify the file system, as accidental deletion or modification can be difficult to undo.\n",
    "- The `os` module provides a way to interact with the underlying operating system, so some methods might not be portable across different platforms (Windows, macOS, Linux).\n",
    "- For more advanced file and directory path manipulation, consider using the `os.path` submodule within `os`.\n"
   ]
  },
  {
   "cell_type": "markdown",
   "id": "486e52ed",
   "metadata": {},
   "source": [
    "# The `time` module in Python\n",
    " provides a variety of functions for working with dates, times, and time-related tasks. Here's a comprehensive explanation of its functionalities:\n",
    "\n",
    "**Essential Functions**\n",
    "\n",
    "1. **`time.time()`:** Returns the current time in seconds since the epoch (January 1, 1970, 00:00:00 UTC).\n",
    "   ```python\n",
    "   current_time_in_seconds = time.time()\n",
    "   print(current_time_in_seconds)  # Output: A large floating-point number representing seconds since the epoch\n",
    "   ```\n",
    "\n",
    "2. **`time.localtime(seconds=None)`:** Converts a time in seconds since the epoch to a local time `struct_time` object, which holds the time breakdown (year, month, day, hour, minute, second, weekday, Julian day number, daylight saving flag). If `seconds` is not specified, it uses the current time.\n",
    "   ```python\n",
    "   local_time_struct = time.localtime()\n",
    "   print(local_time_struct)  # Output: A 9-tuple representing the local time breakdown\n",
    "   ```\n",
    "\n",
    "3. **`time.gmtime(seconds=None)`:** Similar to `localtime()`, but converts time in seconds to a UTC (Coordinated Universal Time) `struct_time` object.\n",
    "   ```python\n",
    "   utc_time_struct = time.gmtime()\n",
    "   print(utc_time_struct)  # Output: A 9-tuple representing the UTC time breakdown\n",
    "   ```\n",
    "\n",
    "4. **`time.sleep(seconds)`:** Pauses the execution of the program for a specified number of seconds.\n",
    "   ```python\n",
    "   print(\"Waiting for 5 seconds...\")\n",
    "   time.sleep(5)\n",
    "   print(\"Done waiting!\")\n",
    "   ```\n",
    "\n",
    "**Formatting Time**\n",
    "\n",
    "- **`time.asctime(time_tuple)`:** Converts a `struct_time` object (returned by `localtime()` or `gmtime()`) into a human-readable string in the format \"Wed Jan 14 12:30:45 2025\".\n",
    "   ```python\n",
    "   readable_time = time.asctime(local_time_struct)\n",
    "   print(readable_time)\n",
    "   ```\n",
    "\n",
    "- **`time.strftime(format, time_tuple)`:** Offers more customizable time formatting using format specifiers like `%Y` (full year), `%m` (month as number), `%d` (day of the month), `%H` (hour in 24-hour format), `%M` (minute), `%S` (second), and many more.\n",
    "   ```python\n",
    "   custom_format = \"%A, %B %d, %Y - %H:%M:%S\"\n",
    "   formatted_time = time.strftime(custom_format, local_time_struct)\n",
    "   print(formatted_time)  # Output: A string representing the time in the specified format\n",
    "   ```\n",
    "\n",
    "**Additional Functions**\n",
    "\n",
    "- **`time.mktime(time_tuple)`:** Takes a `struct_time` object and returns the corresponding time in seconds since the epoch.\n",
    "- **`time.clock()`:** Measures processor time (CPU time) in seconds. This can be useful for benchmarking code execution.\n",
    "- **`time.perf_counter()`:** Similar to `time.clock()`, but provides higher precision for measuring elapsed time (including wall clock time).\n",
    "- **`time.ctime(seconds=None)`:** Alias for `time.asctime(localtime(seconds))`.\n",
    "\n",
    "**Key Points**\n",
    "\n",
    "- The `time` module offers a variety of functions for working with both absolute and relative time in Python.\n",
    "- Understanding the epoch (January 1, 1970, 00:00:00 UTC) is crucial when dealing with time in seconds since the epoch.\n",
    "- `struct_time` objects provide a structured way to represent time breakdowns, while formatting functions (`asctime()` and `strftime()`) allow for flexible human-readable output.\n",
    "\n",
    "By effectively using the `time` module, you can add time-related functionality to your Python programs, such as scheduling tasks, measuring execution times, and displaying formatted timestamps."
   ]
  },
  {
   "cell_type": "code",
   "execution_count": 25,
   "id": "b08a02fc",
   "metadata": {},
   "outputs": [
    {
     "name": "stdout",
     "output_type": "stream",
     "text": [
      "22 / 03 / 24  ---- 13 Hour : 45 min : 43 seconds\n",
      "Print and wait 2 second\n",
      "Print and wait 2 second\n",
      "Print and wait 2 second\n",
      "Print and wait 2 second\n",
      "Print and wait 2 second\n"
     ]
    }
   ],
   "source": [
    "import time\n",
    "\n",
    "# t1 = time.time()\n",
    "# for i in range(10):\n",
    "#     for j in range(2):\n",
    "#         print(i,j)\n",
    "# print(time.time() - t1)\n",
    "\n",
    "time_now = time.localtime()\n",
    "print(time.strftime(\"%d / %m / %y  ---- %H Hour : %M min : %S seconds\",time_now))\n",
    "\n",
    "for i in range(5):\n",
    "    print(\"Print and wait 2 second\")\n",
    "    time.sleep(2)"
   ]
  },
  {
   "cell_type": "markdown",
   "id": "7581e317",
   "metadata": {},
   "source": [
    "# The `random` module in Python\n",
    " is a built-in library that provides functions for generating pseudo-random numbers. These numbers are not truly random, but they are good enough for most applications that require randomness.\n",
    "\n",
    "**Common Functions in the `random` Module**\n",
    "\n",
    "Here are some of the most frequently used functions in the `random` module:\n",
    "\n",
    "1. **Generating Random Numbers**\n",
    "\n",
    "   - `random.random()`: Generates a random floating-point number between 0.0 (inclusive) and 1.0 (exclusive).\n",
    "     ```python\n",
    "     random_number = random.random()\n",
    "     print(random_number)  # Output: A random floating-point number between 0.0 and 1.0\n",
    "     ```\n",
    "\n",
    "   - `random.uniform(a, b)`: Generates a random floating-point number between the given `a` (inclusive) and `b` (exclusive) values.\n",
    "     ```python\n",
    "     random_number_between_10_and_20 = random.uniform(10, 20)\n",
    "     print(random_number_between_10_and_20)  # Output: A random floating-point number between 10.0 and 20.0 (not including 20.0)\n",
    "     ```\n",
    "\n",
    "2. **Generating Random Integers**\n",
    "\n",
    "   - `random.randint(a, b)`: Generates a random integer between `a` (inclusive) and `b` (inclusive).\n",
    "     ```python\n",
    "     random_integer_between_1_and_6 = random.randint(1, 6)\n",
    "     print(random_integer_between_1_and_6)  # Output: A random integer between 1 and 6 (inclusive)\n",
    "     ```\n",
    "\n",
    "3. **Choosing Random Elements**\n",
    "\n",
    "   - `random.choice(sequence)`: Randomly selects an element from the given sequence (list, tuple, string).\n",
    "     ```python\n",
    "     my_list = [\"apple\", \"banana\", \"cherry\"]\n",
    "     random_fruit = random.choice(my_list)\n",
    "     print(random_fruit)  # Output: One of the fruits from the list (\"apple\", \"banana\", or \"cherry\")\n",
    "     ```\n",
    "\n",
    "   - `random.sample(sequence, k)`: Returns a list of `k` unique elements chosen from the sequence without replacement. If `k` is larger than the length of the sequence, all elements will be returned.\n",
    "     ```python\n",
    "     my_numbers = [1, 2, 3, 4, 5]\n",
    "     random_subset = random.sample(my_numbers, 3)\n",
    "     print(random_subset)  # Output: A list of 3 unique elements from the numbers list (without replacement)\n",
    "     ```\n",
    "\n",
    "4. **Shuffling Elements**\n",
    "\n",
    "   - `random.shuffle(sequence)`: Modifies the given sequence in-place by shuffling its elements randomly.\n",
    "     ```python\n",
    "     my_letters = [\"a\", \"b\", \"c\", \"d\"]\n",
    "     random.shuffle(my_letters)\n",
    "     print(my_letters)  # Output: The letters shuffled in a random order\n",
    "     ```\n",
    "\n",
    "**Important Considerations**\n",
    "\n",
    "- Pseudo-randomness: The numbers generated by `random` are not truly random; they are based on an algorithm that repeats after a certain period. However, they are good enough for most applications that require randomness.\n",
    "- Seeding the random number generator (optional): To get different random sequences in different program runs, you can use the `random.seed()` function to seed the random number generator with a different value.\n",
    "  ```python\n",
    "  random.seed(10)  # This will set the seed to 10, potentially resulting in a specific sequence\n",
    "  ```\n",
    "\n",
    "**In Summary**\n",
    "\n",
    "The `random` module provides a powerful and convenient way to introduce randomness into your Python programs. By understanding the various functions and using them judiciously, you can create programs that exhibit random behavior, simulate events, and add a touch of unpredictability to your applications."
   ]
  },
  {
   "cell_type": "code",
   "execution_count": 1,
   "id": "b5862e29",
   "metadata": {},
   "outputs": [
    {
     "name": "stdout",
     "output_type": "stream",
     "text": [
      "19\n",
      "8\n",
      "15\n",
      "1\n",
      "1\n"
     ]
    }
   ],
   "source": [
    "from random import randint\n",
    "\n",
    "for i in range(5):\n",
    "    print(randint(1,20))"
   ]
  },
  {
   "cell_type": "markdown",
   "id": "bb0e78a2",
   "metadata": {},
   "source": [
    "# The `math` module in Python\n",
    " provides a rich set of functions for performing mathematical operations and working with constants. Here's a comprehensive guide to its features:\n",
    "\n",
    "**Importing the Module**\n",
    "\n",
    "To use the `math` module in your Python program, you first need to import it:\n",
    "\n",
    "```python\n",
    "import math\n",
    "```\n",
    "\n",
    "**Common Functions**\n",
    "\n",
    "The `math` module offers a variety of functions for various mathematical tasks. Here are some of the most frequently used ones:\n",
    "\n",
    "**Basic Mathematical Operations**\n",
    "\n",
    "- `math.ceil(x)`: Returns the smallest integer greater than or equal to `x` (ceiling function).\n",
    "- `math.floor(x)`: Returns the largest integer less than or equal to `x` (floor function).\n",
    "- `math.trunc(x)`: Returns the truncated value of `x` towards zero (removes the decimal part).\n",
    "- `math.exp(x)`: Returns the base-e exponent of `x`.\n",
    "- `math.log(x, base=None)`: Returns the logarithm of `x` to a specified base (default is base-e).\n",
    "- `math.log10(x)`: Returns the base-10 logarithm of `x`.\n",
    "- `math.pow(x, y)`: Returns `x` raised to the power of `y`.\n",
    "- `math.sqrt(x)`: Returns the square root of `x`.\n",
    "- `math.sin(x)`: Returns the sine of `x` (in radians).\n",
    "- `math.cos(x)`: Returns the cosine of `x` (in radians).\n",
    "- `math.tan(x)`: Returns the tangent of `x` (in radians).\n",
    "- `math.asin(x)`: Returns the arcsine of `x` (in radians, must be between -1 and 1).\n",
    "- `math.acos(x)`: Returns the arccosine of `x` (in radians, must be between -1 and 1).\n",
    "- `math.atan(x)`: Returns the arctangent of `x` (in radians).\n",
    "- `math.degrees(x)`: Converts an angle from radians to degrees.\n",
    "- `math.radians(x)`: Converts an angle from degrees to radians.\n",
    "\n",
    "**Trigonometric Functions**\n",
    "\n",
    "- `math.sinh(x)`: Hyperbolic sine of `x`.\n",
    "- `math.cosh(x)`: Hyperbolic cosine of `x`.\n",
    "- `math.tanh(x)`: Hyperbolic tangent of `x`.\n",
    "- `math.asinh(x)`: Inverse hyperbolic sine of `x`.\n",
    "- `math.acosh(x)`: Inverse hyperbolic cosine of `x` (argument must be greater than or equal to 1).\n",
    "- `math.atanh(x)`: Inverse hyperbolic tangent of `x` (argument must be between -1 and 1).\n",
    "\n",
    "**Other Useful Functions**\n",
    "\n",
    "- `math.pi`: The mathematical constant pi (approximately 3.14159).\n",
    "- `math.e`: The mathematical constant e (approximately 2.71828).\n",
    "- `math.isinf(x)`: Returns `True` if `x` is positive or negative infinity, `False` otherwise.\n",
    "- `math.isnan(x)`: Returns `True` if `x` is not a number (NaN), `False` otherwise.\n",
    "- `math.factorial(n)`: Returns the factorial of a non-negative integer `n`.\n",
    "\n",
    "**Important Notes**\n",
    "\n",
    "- The `math` module functions generally operate on numerical values (integers or floats).\n",
    "- Trigonometric functions (sine, cosine, tangent, etc.) expect angles in radians.\n",
    "- Some functions might have limitations on their input values (e.g., `asin(x)` requires -1 <= x <= 1).\n",
    "\n",
    "**Example**\n",
    "\n",
    "```python\n",
    "import math\n",
    "\n",
    "# Calculate the area of a circle\n",
    "radius = 5\n",
    "area = math.pi * radius**2\n",
    "print(f\"Area of the circle: {area:.2f}\")  # Output: Area of the circle: 78.54\n",
    "\n",
    "# Find the sine of 60 degrees (converted to radians first)\n",
    "angle_in_degrees = 60\n",
    "angle_in_radians = math.radians(angle_in_degrees)\n",
    "sine_value = math.sin(angle_in_radians)\n",
    "print(f\"Sine of {angle_in_degrees} degrees: {sine_value:.4f}\")  # Output: Sine of 60 degrees: 0.8660\n",
    "```\n",
    "\n",
    "By understanding the capabilities of the `math` module and using its functions appropriately, you can efficiently perform complex mathematical calculations in your Python programs."
   ]
  },
  {
   "cell_type": "code",
   "execution_count": 26,
   "id": "fca41443",
   "metadata": {},
   "outputs": [
    {
     "name": "stdout",
     "output_type": "stream",
     "text": [
      "3.141592653589793\n"
     ]
    }
   ],
   "source": [
    "import math\n",
    "print(math.pi)"
   ]
  },
  {
   "cell_type": "code",
   "execution_count": null,
   "id": "d03cfcc9",
   "metadata": {},
   "outputs": [],
   "source": []
  }
 ],
 "metadata": {
  "kernelspec": {
   "display_name": "Python 3 (ipykernel)",
   "language": "python",
   "name": "python3"
  },
  "language_info": {
   "codemirror_mode": {
    "name": "ipython",
    "version": 3
   },
   "file_extension": ".py",
   "mimetype": "text/x-python",
   "name": "python",
   "nbconvert_exporter": "python",
   "pygments_lexer": "ipython3",
   "version": "3.12.6"
  },
  "widgets": {
   "application/vnd.jupyter.widget-state+json": {
    "state": {},
    "version_major": 2,
    "version_minor": 0
   }
  }
 },
 "nbformat": 4,
 "nbformat_minor": 5
}
